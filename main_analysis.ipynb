{
 "cells": [
  {
   "cell_type": "code",
   "execution_count": null,
   "metadata": {},
   "outputs": [],
   "source": [
    "import numpy as np\n",
    "import json\n",
    "import os\n",
    "import dv_code as dv\n",
    "\n",
    "dv.misc.read_analysis_params((os.getcwd() + '/code/analysis_params.json'))\n",
    "params = 1\n",
    "print(params)\n",
    "analysis_dir = params.get('analysis_dir')\n",
    ""
   ]
  },
  {
   "cell_type": "code",
   "execution_count": null,
   "metadata": {},
   "outputs": [],
   "source": [
    "\n",
    "subject_ids = os.listdir(analysis_dir)\n",
    "\n",
    "subject_list = []\n",
    "for iSubj in range(len(subject_ids)):\n",
    "    if \"sub-\" in subject_ids[iSubj]:\n",
    "        subject_list.append(subject_ids[iSubj])\n",
    "\n",
    "subject_list = sorted(subject_list)\n",
    "print(subject_list)\n",
    "\n",
    ""
   ]
  },
  {
   "cell_type": "code",
   "execution_count": null,
   "metadata": {},
   "outputs": [],
   "source": [
    "#print('Hello World!')\n",
    "#\n",
    "#for iSubj in range(len(subject_list)):\n",
    "#    print(subject_list[iSubj])\n",
    "#    dv.call_FS_recon(analysis_dir, subject_list, 0)"
   ]
  }
 ],
 "nbformat": 4,
 "nbformat_minor": 2,
 "metadata": {
  "language_info": {
   "codemirror_mode": {
    "name": "ipython",
    "version": 3
   },
   "file_extension": ".py",
   "mimetype": "text/x-python",
   "name": "python",
   "nbconvert_exporter": "python",
   "pygments_lexer": "ipython3",
   "version": 3
  },
  "orig_nbformat": 4
 }
}